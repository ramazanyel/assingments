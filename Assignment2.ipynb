{
 "cells": [
  {
   "cell_type": "markdown",
   "id": "af9ba582",
   "metadata": {},
   "source": [
    "# Q1"
   ]
  },
  {
   "cell_type": "markdown",
   "id": "a7d8c2e1",
   "metadata": {},
   "source": [
    "Two values of boolean type are true and false. We write as True and False"
   ]
  },
  {
   "cell_type": "markdown",
   "id": "40489284",
   "metadata": {},
   "source": [
    "# Q2"
   ]
  },
  {
   "cell_type": "markdown",
   "id": "b372c204",
   "metadata": {},
   "source": [
    "and, or and not are different tyep of boolean operators "
   ]
  },
  {
   "cell_type": "markdown",
   "id": "24f48374",
   "metadata": {},
   "source": [
    "# Q3"
   ]
  },
  {
   "cell_type": "markdown",
   "id": "23dd0edd",
   "metadata": {},
   "source": [
    "false and false -> false\\\n",
    "true and false -> false\\\n",
    "false and true -> false\\ \n",
    "true and true -> true\\\n",
    "false or false -> false\\\n",
    "true or false -> true \\\n",
    "false or true -> true \\ \n",
    "true or true -> true \\\n",
    "not false -> true \\\n",
    "not true -> false\n"
   ]
  },
  {
   "cell_type": "markdown",
   "id": "d512bf7e",
   "metadata": {},
   "source": [
    "# Q4"
   ]
  },
  {
   "cell_type": "markdown",
   "id": "119738da",
   "metadata": {},
   "source": [
    "(5 > 4) and (3 == 5) ----->  true and false -> false\\\n",
    "not (5 > 4)  -----> not true -> false\\\n",
    "(5 > 4) or (3 == 5) -----> true or false -> true\\\n",
    "not ((5 > 4) or (3 == 5)) ----------> not(true or false) -> not(true) -> false\\\n",
    "(True and True) and (True == False) -> false\\\n",
    "(not False) or (not True) -> true\\"
   ]
  },
  {
   "cell_type": "markdown",
   "id": "58e8c456",
   "metadata": {},
   "source": [
    "# Q5"
   ]
  },
  {
   "cell_type": "markdown",
   "id": "b64024ea",
   "metadata": {},
   "source": [
    "==   equal\\\n",
    "!=  not equal\\\n",
    "<  smaller\\\n",
    "\\>  greater\\\n",
    "<=  smaller or equal\\\n",
    "\\>= ---> greater or equal\n"
   ]
  },
  {
   "cell_type": "markdown",
   "id": "10fccf05",
   "metadata": {},
   "source": [
    "# Q6"
   ]
  },
  {
   "cell_type": "markdown",
   "id": "855163c9",
   "metadata": {},
   "source": [
    "\"=\" symbol is assignment operator. \"==\" is equal operator. when we want to assign a value to a variable we use first one. if we want to check equalty we use the second one."
   ]
  },
  {
   "cell_type": "markdown",
   "id": "0ba86bcd",
   "metadata": {},
   "source": [
    "# Q7"
   ]
  },
  {
   "cell_type": "markdown",
   "id": "7f122c9f",
   "metadata": {},
   "source": [
    "first if expression creates one block.\\\n",
    "second if expression creates anothe block.\\\n",
    "else expression creates last block. total three block in the code."
   ]
  },
  {
   "cell_type": "markdown",
   "id": "ca1231e2",
   "metadata": {},
   "source": [
    "# Q8"
   ]
  },
  {
   "cell_type": "code",
   "execution_count": 9,
   "id": "56b7045e",
   "metadata": {},
   "outputs": [
    {
     "name": "stdout",
     "output_type": "stream",
     "text": [
      "Hello\n"
     ]
    }
   ],
   "source": [
    "spam = 1   # change the value of spam to see the result for other cases\n",
    "if spam == 1 :\n",
    "    print(\"Hello\")\n",
    "elif spam == 2:\n",
    "    print(\"Howdy\")\n",
    "else:\n",
    "    print(\"Greetings!\")\n",
    "    "
   ]
  },
  {
   "cell_type": "markdown",
   "id": "c4a1bd77",
   "metadata": {},
   "source": [
    "# Q9"
   ]
  },
  {
   "cell_type": "markdown",
   "id": "f3f45076",
   "metadata": {},
   "source": [
    "Ctrl + C"
   ]
  },
  {
   "cell_type": "markdown",
   "id": "bb3f2fd9",
   "metadata": {},
   "source": [
    "# Q10"
   ]
  },
  {
   "cell_type": "markdown",
   "id": "a05be575",
   "metadata": {},
   "source": [
    "Break jump out of the entire loop and continue with the rest of the programm. continue only skip one cycle of the loop"
   ]
  },
  {
   "cell_type": "markdown",
   "id": "97464702",
   "metadata": {},
   "source": [
    "# Q11"
   ]
  },
  {
   "cell_type": "markdown",
   "id": "7559086e",
   "metadata": {},
   "source": [
    "All of them are equivalent. First argument is start second is end and third is step. if not provided default value for start is zero,  and default value for step is 1. so all of them are equivalent"
   ]
  },
  {
   "cell_type": "markdown",
   "id": "a34937ca",
   "metadata": {},
   "source": [
    "# Q12"
   ]
  },
  {
   "cell_type": "code",
   "execution_count": 10,
   "id": "2a29d3e7",
   "metadata": {},
   "outputs": [
    {
     "name": "stdout",
     "output_type": "stream",
     "text": [
      "1\n",
      "2\n",
      "3\n",
      "4\n",
      "5\n",
      "6\n",
      "7\n",
      "8\n",
      "9\n",
      "10\n",
      "1\n",
      "2\n",
      "3\n",
      "4\n",
      "5\n",
      "6\n",
      "7\n",
      "8\n",
      "9\n",
      "10\n"
     ]
    }
   ],
   "source": [
    "for i in range(1,11):\n",
    "    print(i)\n",
    "\n",
    "i = 1\n",
    "while i <=10:\n",
    "    print(i)\n",
    "    i += 1"
   ]
  },
  {
   "cell_type": "markdown",
   "id": "d464e9e9",
   "metadata": {},
   "source": [
    "# Q13"
   ]
  },
  {
   "cell_type": "markdown",
   "id": "e8c7c919",
   "metadata": {},
   "source": [
    "spam.bacon()"
   ]
  },
  {
   "cell_type": "markdown",
   "id": "489f91fd",
   "metadata": {},
   "source": []
  },
  {
   "cell_type": "code",
   "execution_count": null,
   "id": "9317db88",
   "metadata": {},
   "outputs": [],
   "source": []
  }
 ],
 "metadata": {
  "kernelspec": {
   "display_name": "Python 3 (ipykernel)",
   "language": "python",
   "name": "python3"
  },
  "language_info": {
   "codemirror_mode": {
    "name": "ipython",
    "version": 3
   },
   "file_extension": ".py",
   "mimetype": "text/x-python",
   "name": "python",
   "nbconvert_exporter": "python",
   "pygments_lexer": "ipython3",
   "version": "3.9.13"
  }
 },
 "nbformat": 4,
 "nbformat_minor": 5
}
