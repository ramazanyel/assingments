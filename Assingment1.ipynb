{
 "cells": [
  {
   "cell_type": "markdown",
   "id": "9f3df902",
   "metadata": {},
   "source": [
    "# Q1"
   ]
  },
  {
   "cell_type": "markdown",
   "id": "966cc812",
   "metadata": {},
   "source": [
    "\\* is just an operator not value or expression. expressions are combination of operators, values and variables\\\n",
    "\"hello\" -> string value\\\n",
    "-87.8 -> is a float value\\\n",
    "\\- is just an operator\\\n",
    "\\/ is an opertor\\\n",
    "\\+ is just an operator\\\n",
    "6 is an int value"
   ]
  },
  {
   "cell_type": "markdown",
   "id": "c2648e1d",
   "metadata": {},
   "source": [
    "# Q2"
   ]
  },
  {
   "cell_type": "markdown",
   "id": "a1ab9c56",
   "metadata": {},
   "source": [
    "String is type of variable made of characters. a variable on the other hand can hold any type like int , float boolean"
   ]
  },
  {
   "cell_type": "markdown",
   "id": "f2798591",
   "metadata": {},
   "source": [
    "# Q3"
   ]
  },
  {
   "cell_type": "markdown",
   "id": "906b1d8e",
   "metadata": {},
   "source": [
    "int: keeps interger numbers like 1,2,3 ..\\\n",
    "boolean: hold only two values true and false\\\n",
    "string: hold text values like \"hello\""
   ]
  },
  {
   "cell_type": "markdown",
   "id": "12451ae1",
   "metadata": {},
   "source": [
    "# Q4"
   ]
  },
  {
   "cell_type": "markdown",
   "id": "5c0389af",
   "metadata": {},
   "source": [
    "Expressions made up combination of values, variables and operators. All expressions are evalueated to a value"
   ]
  },
  {
   "cell_type": "markdown",
   "id": "d8cf6d69",
   "metadata": {},
   "source": [
    "# Q5"
   ]
  },
  {
   "cell_type": "markdown",
   "id": "151f88bd",
   "metadata": {},
   "source": [
    "Expressions are evaluated to a value. A statement is an instraction completes an action. "
   ]
  },
  {
   "cell_type": "markdown",
   "id": "54ebc9b0",
   "metadata": {},
   "source": [
    "# Q6 "
   ]
  },
  {
   "cell_type": "markdown",
   "id": "b8332ac1",
   "metadata": {},
   "source": [
    "it still contains 22. since there is no reassignment the value remains the same"
   ]
  },
  {
   "cell_type": "markdown",
   "id": "598dbf7b",
   "metadata": {},
   "source": [
    "# Q7"
   ]
  },
  {
   "cell_type": "markdown",
   "id": "e76fc2da",
   "metadata": {},
   "source": [
    "both produces spamspamspam. first one does concatination second one multiplies the string 3 times"
   ]
  },
  {
   "cell_type": "markdown",
   "id": "6ddf313c",
   "metadata": {},
   "source": [
    "# Q8"
   ]
  },
  {
   "cell_type": "markdown",
   "id": "9c9db4f0",
   "metadata": {},
   "source": [
    "variables in python can not be start with a number. "
   ]
  },
  {
   "cell_type": "markdown",
   "id": "f39d5103",
   "metadata": {},
   "source": [
    "# Q9"
   ]
  },
  {
   "cell_type": "markdown",
   "id": "a207c3f2",
   "metadata": {},
   "source": [
    "int(), str(), float() can be used"
   ]
  },
  {
   "cell_type": "markdown",
   "id": "ec462c97",
   "metadata": {},
   "source": [
    "# Q10"
   ]
  },
  {
   "cell_type": "markdown",
   "id": "0745594c",
   "metadata": {},
   "source": [
    "the value 99 is and int but other values are string. trying to add string and int with \"+\" operatior cause error because of type mismatch"
   ]
  },
  {
   "cell_type": "markdown",
   "id": "76e81eb1",
   "metadata": {},
   "source": []
  },
  {
   "cell_type": "markdown",
   "id": "a80baee3",
   "metadata": {},
   "source": []
  }
 ],
 "metadata": {
  "kernelspec": {
   "display_name": "Python 3 (ipykernel)",
   "language": "python",
   "name": "python3"
  },
  "language_info": {
   "codemirror_mode": {
    "name": "ipython",
    "version": 3
   },
   "file_extension": ".py",
   "mimetype": "text/x-python",
   "name": "python",
   "nbconvert_exporter": "python",
   "pygments_lexer": "ipython3",
   "version": "3.9.13"
  }
 },
 "nbformat": 4,
 "nbformat_minor": 5
}
