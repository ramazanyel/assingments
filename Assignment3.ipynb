{
 "cells": [
  {
   "cell_type": "markdown",
   "id": "1a09b7c4",
   "metadata": {},
   "source": [
    "# Q1"
   ]
  },
  {
   "cell_type": "markdown",
   "id": "04fb394a",
   "metadata": {},
   "source": [
    "Because we can define a function and use it as many time as we want for the same task.\\\n",
    "it reduces repetion in our code. Also if we want to change the code later we only make change in one place(function definition). otherwise we need to make a lot of changes in our code where we use the same logic over and over."
   ]
  },
  {
   "cell_type": "markdown",
   "id": "a1b77f98",
   "metadata": {},
   "source": [
    "# Q2"
   ]
  },
  {
   "cell_type": "markdown",
   "id": "14883fd1",
   "metadata": {},
   "source": [
    "The code in function run when we call it"
   ]
  },
  {
   "cell_type": "markdown",
   "id": "8ad820c5",
   "metadata": {},
   "source": [
    "# Q3"
   ]
  },
  {
   "cell_type": "markdown",
   "id": "96bc0394",
   "metadata": {},
   "source": [
    "def  keyword followed by name and if exist arguments create a function "
   ]
  },
  {
   "cell_type": "markdown",
   "id": "6966ddae",
   "metadata": {},
   "source": [
    "# Q4\n"
   ]
  },
  {
   "cell_type": "markdown",
   "id": "85c6be41",
   "metadata": {},
   "source": [
    "A function consist of signiture and body. Function call is name of the function followed by arguments (if exist) between paranthesis. if no argument then we use only opening and closing parantheses. "
   ]
  },
  {
   "cell_type": "markdown",
   "id": "234ec5af",
   "metadata": {},
   "source": [
    "# Q5"
   ]
  },
  {
   "cell_type": "markdown",
   "id": "ef5c2331",
   "metadata": {},
   "source": [
    "there is only one global scope in python and there is no limit for local scope. each if block, for block or function call creates its own local scope when executed. the number of local scopes depends on the programm "
   ]
  },
  {
   "cell_type": "markdown",
   "id": "63e60d64",
   "metadata": {},
   "source": [
    "# Q6"
   ]
  },
  {
   "cell_type": "markdown",
   "id": "bcc8a57b",
   "metadata": {},
   "source": [
    "when funtion returns all local variables are destroyed."
   ]
  },
  {
   "cell_type": "markdown",
   "id": "7d668520",
   "metadata": {},
   "source": [
    "# Q7"
   ]
  },
  {
   "cell_type": "markdown",
   "id": "784d8ad1",
   "metadata": {},
   "source": [
    "it is the value returned back to the caller by a function when called. we can not use return outside of function in python "
   ]
  },
  {
   "cell_type": "markdown",
   "id": "0801461a",
   "metadata": {},
   "source": [
    "# Q8"
   ]
  },
  {
   "cell_type": "markdown",
   "id": "a2446ba6",
   "metadata": {},
   "source": [
    "the return value of a function without return statement is None and its type is NoneType"
   ]
  },
  {
   "cell_type": "markdown",
   "id": "5137f49d",
   "metadata": {},
   "source": [
    "# Q9"
   ]
  },
  {
   "cell_type": "markdown",
   "id": "0b31229d",
   "metadata": {},
   "source": [
    "by adding global keyword inside a variable in a local scope we can access global variable"
   ]
  },
  {
   "cell_type": "markdown",
   "id": "735e9d08",
   "metadata": {},
   "source": [
    "# Q10"
   ]
  },
  {
   "cell_type": "markdown",
   "id": "32f65dbd",
   "metadata": {},
   "source": [
    "type of None is NoneType"
   ]
  },
  {
   "cell_type": "markdown",
   "id": "a6a5e0a1",
   "metadata": {},
   "source": [
    "# Q11 "
   ]
  },
  {
   "cell_type": "markdown",
   "id": "efe15fc0",
   "metadata": {},
   "source": [
    "import areallyourpetsnamederic imports the mentioned module into the python file we currently working on"
   ]
  },
  {
   "cell_type": "markdown",
   "id": "1ec7cf6c",
   "metadata": {},
   "source": [
    "# Q12"
   ]
  },
  {
   "cell_type": "markdown",
   "id": "91e723e0",
   "metadata": {},
   "source": [
    "if we have bacon() feature in spam module we can call it by spam.bacon()"
   ]
  },
  {
   "cell_type": "markdown",
   "id": "e36fea13",
   "metadata": {},
   "source": [
    "# Q13"
   ]
  },
  {
   "cell_type": "markdown",
   "id": "25c88391",
   "metadata": {},
   "source": [
    "we can implement exception handling to save a programm from crashing it it encounters and error"
   ]
  },
  {
   "cell_type": "markdown",
   "id": "a14e1fc2",
   "metadata": {},
   "source": [
    "# Q14"
   ]
  },
  {
   "cell_type": "markdown",
   "id": "8df15e56",
   "metadata": {},
   "source": [
    "the purpose of try clause is that we put a suspicious code that may crash inside try block to save our program if the block fail.\n",
    "the purpose of excetp block is that if an error occure in try execution contionues from excetp block to save program from crashing"
   ]
  },
  {
   "cell_type": "markdown",
   "id": "9c23c977",
   "metadata": {},
   "source": []
  },
  {
   "cell_type": "markdown",
   "id": "9b012f94",
   "metadata": {},
   "source": []
  },
  {
   "cell_type": "markdown",
   "id": "5f84dd30",
   "metadata": {},
   "source": []
  },
  {
   "cell_type": "markdown",
   "id": "303562bf",
   "metadata": {},
   "source": []
  },
  {
   "cell_type": "markdown",
   "id": "0e02b2b9",
   "metadata": {},
   "source": []
  },
  {
   "cell_type": "markdown",
   "id": "3c90e1f1",
   "metadata": {},
   "source": []
  },
  {
   "cell_type": "markdown",
   "id": "0366ef8f",
   "metadata": {},
   "source": []
  },
  {
   "cell_type": "markdown",
   "id": "de695ba7",
   "metadata": {},
   "source": []
  },
  {
   "cell_type": "markdown",
   "id": "f58aaeb8",
   "metadata": {},
   "source": []
  },
  {
   "cell_type": "code",
   "execution_count": 3,
   "id": "fd4d7908",
   "metadata": {},
   "outputs": [
    {
     "name": "stdout",
     "output_type": "stream",
     "text": [
      "\n"
     ]
    }
   ],
   "source": [
    "a = print(\"\")"
   ]
  },
  {
   "cell_type": "code",
   "execution_count": 5,
   "id": "105bf538",
   "metadata": {},
   "outputs": [
    {
     "name": "stdout",
     "output_type": "stream",
     "text": [
      "None\n"
     ]
    }
   ],
   "source": [
    "print(a)"
   ]
  },
  {
   "cell_type": "code",
   "execution_count": 6,
   "id": "7b1bd17d",
   "metadata": {},
   "outputs": [
    {
     "data": {
      "text/plain": [
       "NoneType"
      ]
     },
     "execution_count": 6,
     "metadata": {},
     "output_type": "execute_result"
    }
   ],
   "source": [
    "type(a)"
   ]
  },
  {
   "cell_type": "code",
   "execution_count": null,
   "id": "e100e5d6",
   "metadata": {},
   "outputs": [],
   "source": []
  }
 ],
 "metadata": {
  "kernelspec": {
   "display_name": "Python 3 (ipykernel)",
   "language": "python",
   "name": "python3"
  },
  "language_info": {
   "codemirror_mode": {
    "name": "ipython",
    "version": 3
   },
   "file_extension": ".py",
   "mimetype": "text/x-python",
   "name": "python",
   "nbconvert_exporter": "python",
   "pygments_lexer": "ipython3",
   "version": "3.9.13"
  }
 },
 "nbformat": 4,
 "nbformat_minor": 5
}
